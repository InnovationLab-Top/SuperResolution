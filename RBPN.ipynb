{
  "nbformat": 4,
  "nbformat_minor": 0,
  "metadata": {
    "colab": {
      "name": "RBPN.ipynb",
      "provenance": [],
      "collapsed_sections": [],
      "machine_shape": "hm"
    },
    "kernelspec": {
      "name": "python3",
      "display_name": "Python 3"
    },
    "language_info": {
      "name": "python"
    },
    "accelerator": "GPU"
  },
  "cells": [
    {
      "cell_type": "code",
      "metadata": {
        "id": "Y-_LZa7VOc7V"
      },
      "source": [
        "# import super resolution repository\n",
        "!git clone https://github.com/alterzero/RBPN-PyTorch.git"
      ],
      "execution_count": null,
      "outputs": []
    },
    {
      "cell_type": "code",
      "metadata": {
        "id": "Uq-zpxoS_Jto"
      },
      "source": [
        "# import custom version of super resolution repository and replacement with custom file\n",
        "!git clone https://github.com/InnovationLab-Top/SuperResolution\n",
        "!cp /content/SuperResolution/dataset.py /content/RBPN-PyTorch/dataset.py"
      ],
      "execution_count": null,
      "outputs": []
    },
    {
      "cell_type": "code",
      "metadata": {
        "id": "rgC6r2eSO5uT"
      },
      "source": [
        "# install pyflow\n",
        "%cd /content/RBPN-PyTorch/pyflow/\n",
        "!python setup.py build_ext -i\n",
        "!cp pyflow*.so .."
      ],
      "execution_count": null,
      "outputs": []
    },
    {
      "cell_type": "code",
      "metadata": {
        "id": "NJGaCQx7Qxhd"
      },
      "source": [
        "# required\n",
        "!pip install -U scipy==1.2.0"
      ],
      "execution_count": null,
      "outputs": []
    },
    {
      "cell_type": "markdown",
      "metadata": {
        "id": "fmvvWfrl5ngx"
      },
      "source": [
        "In the link below there are pre-trained weights for various upscale factors. You have to create a shortcut to your drive for one of the files containing pre-trained weights (you can choose between 2x, 4x and 8x). We ran our model with the 2x version.\n",
        "\n",
        "https://drive.google.com/drive/folders/1dv2J0L6mNz1TRZ7JHg6mnWLV1klbXAyw"
      ]
    },
    {
      "cell_type": "code",
      "metadata": {
        "id": "6NxWdiMRPWC6"
      },
      "source": [
        "# mount your drive on colab to get the downloaded pre-trained weights\n",
        "from google.colab import drive\n",
        "drive.mount('/content/drive')"
      ],
      "execution_count": null,
      "outputs": []
    },
    {
      "cell_type": "code",
      "metadata": {
        "id": "JIuO81Hke1S1"
      },
      "source": [
        "# create folder for the frame to super-resolve\n",
        "!mkdir /content/frames"
      ],
      "execution_count": null,
      "outputs": []
    },
    {
      "cell_type": "code",
      "metadata": {
        "id": "EtGXTzNYezah"
      },
      "source": [
        "# extract a sequence of frames from a video .mp4\n",
        "import cv2\n",
        "import os\n",
        "SOURCE_VIDEO = '/content/drive/Shareddrives/InnLab_Carbonaro/brazil/brazil4.mp4'\n",
        "SKIP = 30\n",
        "vidcap = cv2.VideoCapture(SOURCE_VIDEO)\n",
        "success, image = vidcap.read()\n",
        "count = 0\n",
        "with open('/content/frames/frames.txt', 'w+') as f:   # create .txt list of image names\n",
        "  while success:\n",
        "    cv2.imwrite(f\"/content/frames/{str(count).zfill(3)}.png\", image)\n",
        "    f.write(f\"{str(count).zfill(3)}.png\\n\")     \n",
        "    success, image = vidcap.read()\n",
        "    count += SKIP\n",
        "    vidcap.set(cv2.CAP_PROP_POS_FRAMES, count)"
      ],
      "execution_count": null,
      "outputs": []
    },
    {
      "cell_type": "code",
      "metadata": {
        "id": "yqILDfy7fh9B"
      },
      "source": [
        "# Testing the model on your video frames (remember to set upscale_factor according to the pre-trained weights you downloaded)\n",
        "# Don't worry about the warnings appearing during the test!\n",
        "WEIGHTS_PATH = '/content/drive/Shareddrives/InnLab_Carbonaro/Super-resolution/weights/RBPN_2x.pth'\n",
        "!python eval.py --model {WEIGHTS_PATH} --upscale_factor 2 --data_dir /content/frames --file_list /content/frames/frames.txt "
      ],
      "execution_count": null,
      "outputs": []
    }
  ]
}